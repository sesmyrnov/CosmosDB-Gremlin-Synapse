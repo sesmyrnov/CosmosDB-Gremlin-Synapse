{
  "cells": [
    {
      "cell_type": "markdown",
      "source": [
        "# Analytical/OLAP Graph examples for Cosmos GremlinV1 in Synapse Spark using GraphFrames library\n",
        "Code is in Scala for ease of configuration with user jars"
      ],
      "metadata": {}
    },
    {
      "cell_type": "markdown",
      "source": [
        "## Pre-requirements:\r\n",
        "- Create Cosmos Gremlin API account, load Sample Graph data : \r\n",
        "```\r\n",
        "g.addV('person').property('id', 'a').property('name', 'Alice').property('age', 34)\r\n",
        "g.addV('person').property('id', 'c').property('name', 'Charlie').property('age', 30)\r\n",
        "g.addV('person').property('id', 'd').property('name', 'David').property('age', 29)\r\n",
        "g.addV('person').property('id', 'e').property('name', 'Esther').property('age', 32)\r\n",
        "g.addV('person').property('id', 'f').property('name', 'Fanny').property('age', 36)\r\n",
        "g.addV('person').property('id', 'g').property('name', 'Gab').property('age', 60)\r\n",
        "\r\n",
        "\r\n",
        "g.V().hasLabel('person').has('id', 'a').addE('friend').to(g.V().hasLabel('person').has('id', 'g'))\r\n",
        "g.V().hasLabel('person').has('id', 'g').addE('follow').to(g.V().hasLabel('person').has('id', 'c'))\r\n",
        "g.V().hasLabel('person').has('id', 'c').addE('follow').to(g.V().hasLabel('person').has('id', 'g'))\r\n",
        "g.V().hasLabel('person').has('id', 'f').addE('follow').to(g.V().hasLabel('person').has('id', 'c'))\r\n",
        "g.V().hasLabel('person').has('id', 'e').addE('follow').to(g.V().hasLabel('person').has('id', 'f'))\r\n",
        "g.V().hasLabel('person').has('id', 'e').addE('friend').to(g.V().hasLabel('person').has('id', 'd'))\r\n",
        "g.V().hasLabel('person').has('id', 'd').addE('friend').to(g.V().hasLabel('person').has('id', 'a'))\r\n",
        "g.V().hasLabel('person').has('id', 'a').addE('friend').to(g.V().hasLabel('person').has('id', 'e'))\r\n",
        "g.V().hasLabel('person').has('id', 'e').addE('friend').to(g.V().hasLabel('person').has('id', 'a'))\r\n",
        "g.V().hasLabel('person').has('id', 'e').addE('friend').to(g.V().hasLabel('person').has('id', 'c'))\r\n",
        "g.V().hasLabel('person').has('id', 'e').addE('friend').to(g.V().hasLabel('person').has('id', 'g'))\r\n",
        "g.V().hasLabel('person').has('id', 'e').addE('friend').to(g.V().hasLabel('person').has('id', 'f'))\r\n",
        "g.V().hasLabel('person').has('id', 'a').addE('follow').to(g.V().hasLabel('person').has('id', 'c'))\r\n",
        "g.V().hasLabel('person').has('id', 'd').addE('follow').to(g.V().hasLabel('person').has('id', 'c'))\r\n",
        "g.V().hasLabel('person').has('id', 'e').addE('follow').to(g.V().hasLabel('person').has('id', 'c'))\r\n",
        "\r\n",
        "\r\n",
        "g.addV('person').property('id', 'b').property('name', 'Sam').property('age', 53)\r\n",
        "g.addV('person').property('id', 'h').property('name', 'Samuel').property('age', 54)\r\n",
        "g.addV('person').property('id', 'i').property('name', 'Sammmy').property('age', 55)\r\n",
        "\r\n",
        "g.V().hasLabel('person').has('id', 'b').addE('follow').to(g.V().hasLabel('person').has('id', 'h'))\r\n",
        "g.V().hasLabel('person').has('id', 'b').addE('friend').to(g.V().hasLabel('person').has('id', 'h'))\r\n",
        "g.V().hasLabel('person').has('id', 'i').addE('friend').to(g.V().hasLabel('person').has('id', 'b'))\r\n",
        "g.V().hasLabel('person').has('id', 'h').addE('follow').to(g.V().hasLabel('person').has('id', 'i'))\r\n",
        "g.V().hasLabel('person').has('id', 'b').addE('follow').to(g.V().hasLabel('person').has('id', 'a'))\r\n",
        "\r\n",
        "```\r\n",
        "- Create Synapse Linksed service using Cosmos Gremlin API SDK URL/key to be able to access Cosmso Gremlin data via Synapse Linked Service using  ``spark.read.format(\"cosmos.oltp\")\"``."
      ],
      "metadata": {
        "nteract": {
          "transient": {
            "deleting": false
          }
        }
      }
    },
    {
      "cell_type": "markdown",
      "source": [
        "### Configuration\n",
        "Configure magic command can be used to access user jars.  Here we are accessing a GraphFrame jar that has been uploaded to blob storage.  \n",
        "\n",
        "NOTE: user must be assigned **Storage Blob Data Contributor** role for the storage account to be able to access file (otherwise this command will fail).\n",
        "\n",
        "Also make sure that Spark and Scala versions for the jar and your spark pool match.\n",
        "\n",
        "Update ``<CosmosGremlinLinkedAccount>`` and ``<CosmoGremlinGraphName>``"
      ],
      "metadata": {}
    },
    {
      "cell_type": "code",
      "source": [
        "%%configure -f\n",
        "{\n",
        "    \"jars\": [\n",
        "        \"abfss://sourcedata@cosmossynapseadls.dfs.core.windows.net/graphframes-0.8.0-spark2.4-s_2.11.jar\"\n",
        "    ]\n",
        "}"
      ],
      "outputs": [
        {
          "output_type": "display_data",
          "data": {
            "application/vnd.livy.statement-meta+json": {
              "spark_pool": "sparkdemo",
              "session_id": 81,
              "statement_id": 3,
              "state": "finished",
              "livy_statement_state": "available",
              "queued_time": "2020-12-12T19:36:16.0761447Z",
              "execution_start_time": "2020-12-12T19:38:49.5119066Z",
              "execution_finish_time": "2020-12-12T19:38:51.549945Z",
              "from_artifact": true
            },
            "text/plain": "StatementMeta(sparkdemo, 81, 3, Finished, Available)"
          },
          "metadata": {}
        },
        {
          "output_type": "execute_result",
          "execution_count": 1,
          "data": {
            "text/plain": ""
          },
          "metadata": {}
        }
      ],
      "execution_count": 1,
      "metadata": {}
    },
    {
      "cell_type": "markdown",
      "source": [
        "### Reading data from Azure Cosmos DB analytical store to Spark DataFrame\n"
      ],
      "metadata": {}
    },
    {
      "cell_type": "code",
      "source": [
        "import org.apache.spark.sql._\r\n",
        "import org.apache.spark.sql.functions._\r\n",
        "import org.graphframes._\r\n",
        "import org.graphframes.GraphFrame\r\n",
        "\r\n",
        "\r\n",
        "val df_olap = spark.read.format(\"cosmos.oltp\").\r\n",
        "    option(\"spark.synapse.linkedService\", \"<CosmosGremlinLinkedAccount>\").\r\n",
        "    option(\"spark.cosmos.container\", \"<CosmoGremlinGraphName>\").\r\n",
        "    load()\r\n",
        "\r\n",
        "//display first 10 entries\r\n",
        "//display(df_olap) \r\n",
        "\r\n",
        "var vertices = df_olap.filter($\"_sink\".isNull).select($\"id\", $\"name\",$\"age\".getItem(0).getItem(\"_value\").as(\"age\"))\r\n",
        "\r\n",
        "//display(vertices)\r\n",
        "\r\n",
        "val df_edges = (df_olap.filter($\"_sink\".isNotNull)\r\n",
        "    .drop(\"_isEdge\"))\r\n",
        "\r\n",
        "var edges = df_edges.select(\"_vertexId\", \"_sink\", \"label\")\r\n",
        "edges = edges.withColumnRenamed(\"_vertexId\", \"src\")\r\n",
        "edges = edges.withColumnRenamed(\"_sink\", \"dst\")\r\n",
        "edges = edges.withColumnRenamed(\"label\", \"relationship\")\r\n",
        "\r\n",
        "//display(edges)\r\n",
        "\r\n",
        "\r\n",
        "//val graph = GraphFrame(vertices, edges)\r\n"
      ],
      "outputs": [
        {
          "output_type": "display_data",
          "data": {
            "application/vnd.livy.statement-meta+json": {
              "spark_pool": "sparkdemo",
              "session_id": 81,
              "statement_id": 27,
              "state": "finished",
              "livy_statement_state": "available",
              "queued_time": "2020-12-12T19:52:11.2117753Z",
              "execution_start_time": "2020-12-12T19:52:11.2443379Z",
              "execution_finish_time": "2020-12-12T19:52:19.369795Z",
              "from_artifact": true
            },
            "text/plain": "StatementMeta(sparkdemo, 81, 27, Finished, Available)"
          },
          "metadata": {}
        },
        {
          "output_type": "execute_result",
          "execution_count": 25,
          "data": {
            "text/plain": "import org.apache.spark.sql._\nimport org.apache.spark.sql.functions._\nimport org.graphframes._\nimport org.graphframes.GraphFrame\ndf_olap: org.apache.spark.sql.DataFrame = [_attachments: string, _etag: string ... 13 more fields]\nvertices: org.apache.spark.sql.DataFrame = [id: string, name: string ... 1 more field]\ndf_edges: org.apache.spark.sql.DataFrame = [_attachments: string, _etag: string ... 12 more fields]\nedges: org.apache.spark.sql.DataFrame = [_vertexId: string, _sink: string ... 1 more field]\nedges: org.apache.spark.sql.DataFrame = [src: string, _sink: string ... 1 more field]\nedges: org.apache.spark.sql.DataFrame = [src: string, dst: string ... 1 more field]\nedges: org.apache.spark.sql.DataFrame = [src: string, dst: string ... 1 more field]\n"
          },
          "metadata": {}
        }
      ],
      "execution_count": 25,
      "metadata": {
        "jupyter": {
          "source_hidden": false,
          "outputs_hidden": false
        },
        "nteract": {
          "transient": {
            "deleting": false
          }
        },
        "collapsed": false
      }
    },
    {
      "cell_type": "code",
      "source": [
        "display(vertices)"
      ],
      "outputs": [
        {
          "output_type": "display_data",
          "data": {
            "application/vnd.livy.statement-meta+json": {
              "spark_pool": "sparkdemo",
              "session_id": 81,
              "statement_id": 28,
              "state": "finished",
              "livy_statement_state": "available",
              "queued_time": "2020-12-12T19:52:24.9912971Z",
              "execution_start_time": "2020-12-12T19:52:25.0266525Z",
              "execution_finish_time": "2020-12-12T19:52:29.0858409Z",
              "from_artifact": true
            },
            "text/plain": "StatementMeta(sparkdemo, 81, 28, Finished, Available)"
          },
          "metadata": {}
        },
        {
          "output_type": "display_data",
          "data": {
            "application/vnd.synapse.widget-view+json": {
              "widget_id": "eeb76ac4-107e-4425-b6e5-ecb73d243e15",
              "widget_type": "Synapse.DataFrame"
            },
            "text/plain": "SynapseWidget(Synapse.DataFrame, eeb76ac4-107e-4425-b6e5-ecb73d243e15)"
          },
          "metadata": {}
        },
        {
          "output_type": "display_data",
          "data": {
            "text/plain": "\n"
          },
          "metadata": {}
        },
        {
          "output_type": "execute_result",
          "execution_count": 26,
          "data": {},
          "metadata": {}
        }
      ],
      "execution_count": 26,
      "metadata": {
        "jupyter": {
          "source_hidden": false,
          "outputs_hidden": false
        },
        "nteract": {
          "transient": {
            "deleting": false
          }
        },
        "collapsed": false
      }
    },
    {
      "cell_type": "code",
      "source": [
        "display(edges)"
      ],
      "outputs": [
        {
          "output_type": "display_data",
          "data": {
            "application/vnd.livy.statement-meta+json": {
              "spark_pool": "sparkdemo",
              "session_id": 81,
              "statement_id": 29,
              "state": "finished",
              "livy_statement_state": "available",
              "queued_time": "2020-12-12T19:52:32.0090464Z",
              "execution_start_time": "2020-12-12T19:52:32.0417876Z",
              "execution_finish_time": "2020-12-12T19:52:34.0906138Z",
              "from_artifact": true
            },
            "text/plain": "StatementMeta(sparkdemo, 81, 29, Finished, Available)"
          },
          "metadata": {}
        },
        {
          "output_type": "display_data",
          "data": {
            "application/vnd.synapse.widget-view+json": {
              "widget_id": "fa5c5f97-51bb-4dbb-85a9-d767d5cd17d9",
              "widget_type": "Synapse.DataFrame"
            },
            "text/plain": "SynapseWidget(Synapse.DataFrame, fa5c5f97-51bb-4dbb-85a9-d767d5cd17d9)"
          },
          "metadata": {}
        },
        {
          "output_type": "display_data",
          "data": {
            "text/plain": "\n"
          },
          "metadata": {}
        },
        {
          "output_type": "execute_result",
          "execution_count": 27,
          "data": {},
          "metadata": {}
        }
      ],
      "execution_count": 27,
      "metadata": {
        "jupyter": {
          "source_hidden": false,
          "outputs_hidden": false
        },
        "nteract": {
          "transient": {
            "deleting": false
          }
        },
        "collapsed": false
      }
    },
    {
      "cell_type": "markdown",
      "source": [
        "### Converting from dataframe to graphframe\n"
      ],
      "metadata": {}
    },
    {
      "cell_type": "code",
      "source": [
        "import org.graphframes._\n",
        "import org.graphframes.GraphFrame\n",
        "\n",
        "val graph = GraphFrame(vertices, edges)\n"
      ],
      "outputs": [
        {
          "output_type": "display_data",
          "data": {
            "application/vnd.livy.statement-meta+json": {
              "spark_pool": "sparkdemo",
              "session_id": 81,
              "statement_id": 30,
              "state": "finished",
              "livy_statement_state": "available",
              "queued_time": "2020-12-12T19:52:36.8829473Z",
              "execution_start_time": "2020-12-12T19:52:36.912353Z",
              "execution_finish_time": "2020-12-12T19:52:38.9496001Z",
              "from_artifact": true
            },
            "text/plain": "StatementMeta(sparkdemo, 81, 30, Finished, Available)"
          },
          "metadata": {}
        },
        {
          "output_type": "execute_result",
          "execution_count": 28,
          "data": {
            "text/plain": "import org.graphframes._\nimport org.graphframes.GraphFrame\ngraph: org.graphframes.GraphFrame = GraphFrame(v:[id: string, name: string ... 1 more field], e:[src: string, dst: string ... 1 more field])\n"
          },
          "metadata": {}
        }
      ],
      "execution_count": 28,
      "metadata": {
        "collapsed": false
      }
    },
    {
      "cell_type": "markdown",
      "source": [
        "### Counting vertices and edges in dataframe and graphframe\n"
      ],
      "metadata": {}
    },
    {
      "cell_type": "code",
      "source": [
        "var vert_count = graph.vertices.count()\n",
        "var edge_count = graph.edges.count()\n",
        "println()\n",
        "\n",
        "// Sum of vertices and edges should be number of rows in initial dataframe\n",
        "println(df_olap.count())\n",
        "println(vert_count + edge_count)\n"
      ],
      "outputs": [
        {
          "output_type": "display_data",
          "data": {
            "application/vnd.livy.statement-meta+json": {
              "spark_pool": "sparkdemo",
              "session_id": 81,
              "statement_id": 31,
              "state": "finished",
              "livy_statement_state": "available",
              "queued_time": "2020-12-12T19:52:47.6571932Z",
              "execution_start_time": "2020-12-12T19:52:47.6884664Z",
              "execution_finish_time": "2020-12-12T19:52:51.7749784Z",
              "from_artifact": true
            },
            "text/plain": "StatementMeta(sparkdemo, 81, 31, Finished, Available)"
          },
          "metadata": {}
        },
        {
          "output_type": "execute_result",
          "execution_count": 29,
          "data": {
            "text/plain": "vert_count: Long = 9\nedge_count: Long = 20\n\n29\n29\n"
          },
          "metadata": {}
        }
      ],
      "execution_count": 29,
      "metadata": {}
    },
    {
      "cell_type": "markdown",
      "source": [
        "## Performing analysis/queries with graphframes\n"
      ],
      "metadata": {}
    },
    {
      "cell_type": "code",
      "source": [
        "import org.apache.spark.sql.DataFrame\r\n",
        "\r\n",
        "// Find the youngest user's age in the graph.\r\n",
        "// This queries the vertex DataFrame.\r\n",
        "graph.vertices.groupBy().min(\"age\").show()\r\n",
        "\r\n",
        "// Count the number of \"follows\" in the graph.\r\n",
        "// This queries the edge DataFrame.\r\n",
        "val numFollows = graph.edges.filter(\"relationship = 'follow'\").count()\r\n",
        "\r\n",
        "println(\"\")\r\n",
        "\r\n",
        "// Get a DataFrame with columns \"id\" and \"inDeg\" (in-degree)\r\n",
        "graph.inDegrees.show()\r\n"
      ],
      "outputs": [
        {
          "output_type": "display_data",
          "data": {
            "application/vnd.livy.statement-meta+json": {
              "spark_pool": "sparkdemo",
              "session_id": 81,
              "statement_id": 32,
              "state": "finished",
              "livy_statement_state": "available",
              "queued_time": "2020-12-12T19:52:57.6958692Z",
              "execution_start_time": "2020-12-12T19:52:57.7382422Z",
              "execution_finish_time": "2020-12-12T19:53:05.8856242Z",
              "from_artifact": true
            },
            "text/plain": "StatementMeta(sparkdemo, 81, 32, Finished, Available)"
          },
          "metadata": {}
        },
        {
          "output_type": "execute_result",
          "execution_count": 30,
          "data": {
            "text/plain": "import org.apache.spark.sql.DataFrame\n+--------+\n|min(age)|\n+--------+\n|      29|\n+--------+\n\nnumFollows: Long = 10\n\n+---+--------+\n| id|inDegree|\n+---+--------+\n|  g|       3|\n|  f|       2|\n|  e|       1|\n|  h|       2|\n|  d|       1|\n|  c|       6|\n|  i|       1|\n|  b|       1|\n|  a|       3|\n+---+--------+\n\n"
          },
          "metadata": {}
        }
      ],
      "execution_count": 30,
      "metadata": {
        "jupyter": {
          "source_hidden": false,
          "outputs_hidden": false
        },
        "nteract": {
          "transient": {
            "deleting": false
          }
        },
        "collapsed": true
      }
    },
    {
      "cell_type": "markdown",
      "source": [
        "## Example of Comunity Detection Algo using labelpropagation"
      ],
      "metadata": {
        "nteract": {
          "transient": {
            "deleting": false
          }
        }
      }
    },
    {
      "cell_type": "code",
      "source": [
        "import org.apache.spark.sql.DataFrame\r\n",
        "// Label Propagation Algo to detect comunities of Vertices based on thier connections\r\n",
        "// See also https://graphframes.github.io/graphframes/docs/_site/user-guide.html\r\n",
        "\r\n",
        "val result = graph.labelPropagation.maxIter(5).run()\r\n",
        "result.select(\"id\", \"name\", \"label\").show()\r\n"
      ],
      "outputs": [
        {
          "output_type": "display_data",
          "data": {
            "application/vnd.livy.statement-meta+json": {
              "spark_pool": "sparkdemo",
              "session_id": 81,
              "statement_id": 33,
              "state": "finished",
              "livy_statement_state": "available",
              "queued_time": "2020-12-12T19:53:17.6246754Z",
              "execution_start_time": "2020-12-12T19:53:17.6566764Z",
              "execution_finish_time": "2020-12-12T19:54:55.5676127Z",
              "from_artifact": true
            },
            "text/plain": "StatementMeta(sparkdemo, 81, 33, Finished, Available)"
          },
          "metadata": {}
        },
        {
          "output_type": "execute_result",
          "execution_count": 31,
          "data": {
            "text/plain": "import org.apache.spark.sql.DataFrame\nresult: org.apache.spark.sql.DataFrame = [id: string, name: string ... 2 more fields]\n+---+-------+-------------+\n| id|   name|        label|\n+---+-------+-------------+\n|  g|    Gab| 670014898176|\n|  c|Charlie| 670014898176|\n|  i| Sammmy| 704374636544|\n|  f|  Fanny| 670014898176|\n|  b|    Sam| 704374636544|\n|  a|  Alice| 670014898176|\n|  e| Esther| 670014898176|\n|  h| Samuel|1382979469312|\n|  d|  David| 670014898176|\n+---+-------+-------------+\n\n"
          },
          "metadata": {}
        }
      ],
      "execution_count": 31,
      "metadata": {
        "jupyter": {
          "source_hidden": false,
          "outputs_hidden": false
        },
        "nteract": {
          "transient": {
            "deleting": false
          }
        },
        "collapsed": true
      }
    },
    {
      "cell_type": "markdown",
      "source": [
        "## Example of PageRank Algo using pagerank\n"
      ],
      "metadata": {}
    },
    {
      "cell_type": "code",
      "source": [
        "// PageRank - Centrality Algo used to find Importance of connected Vertices ( higher Ranking Score is higher importance) \r\n",
        "// Personalized PageRank - bias Ranking of connected vertices toward particular Vertice(s)\r\n",
        "// edges weighted based on the importance of the Vertices (or can have a custom weights assigned to boost certain relationships/connections)\r\n",
        "\r\n",
        "// Run PageRank on graph and display results\r\n",
        "val results = graph.pageRank.resetProbability(0.15).tol(0.01).run()\r\n",
        "\r\n",
        "//Personalized PageRank (biased toward sourceID)\r\n",
        "val resultsP1 = graph.pageRank.resetProbability(0.15).maxIter(5).sourceId(\"a\").run()\r\n",
        "\r\n",
        "//Personalized PageRank (biased toward array of sourceIDs)\r\n",
        "val resultsPm = graph.parallelPersonalizedPageRank.resetProbability(0.15).maxIter(5).sourceIds(Array(\"a\", \"b\", \"c\")).run()"
      ],
      "outputs": [
        {
          "output_type": "display_data",
          "data": {
            "application/vnd.livy.statement-meta+json": {
              "spark_pool": "sparkdemo",
              "session_id": 81,
              "statement_id": 55,
              "state": "finished",
              "livy_statement_state": "available",
              "queued_time": "2020-12-12T20:40:34.6230709Z",
              "execution_start_time": "2020-12-12T20:40:34.6542686Z",
              "execution_finish_time": "2020-12-12T20:48:13.4655745Z",
              "from_artifact": true
            },
            "text/plain": "StatementMeta(sparkdemo, 81, 55, Finished, Available)"
          },
          "metadata": {}
        },
        {
          "output_type": "execute_result",
          "execution_count": 53,
          "data": {
            "text/plain": "results: org.graphframes.GraphFrame = GraphFrame(v:[id: string, name: string ... 2 more fields], e:[src: string, dst: string ... 2 more fields])\nresultsP1: org.graphframes.GraphFrame = GraphFrame(v:[id: string, name: string ... 2 more fields], e:[src: string, dst: string ... 2 more fields])\nresultsPm: org.graphframes.GraphFrame = GraphFrame(v:[id: string, name: string ... 2 more fields], e:[src: string, dst: string ... 2 more fields])\n"
          },
          "metadata": {}
        }
      ],
      "execution_count": 53,
      "metadata": {
        "jupyter": {
          "source_hidden": false,
          "outputs_hidden": false
        },
        "nteract": {
          "transient": {
            "deleting": false
          }
        },
        "collapsed": true
      }
    },
    {
      "cell_type": "code",
      "source": [
        "import org.apache.spark.sql._\n",
        "import org.apache.spark.sql.functions._\n",
        "\n",
        "display(results.vertices.select(\"id\", \"name\" ,\"pagerank\").orderBy($\"pagerank\".desc))\n"
      ],
      "outputs": [
        {
          "output_type": "display_data",
          "data": {
            "application/vnd.livy.statement-meta+json": {
              "spark_pool": "sparkdemo",
              "session_id": 81,
              "statement_id": 56,
              "state": "finished",
              "livy_statement_state": "available",
              "queued_time": "2020-12-12T20:49:04.5051716Z",
              "execution_start_time": "2020-12-12T20:49:04.5406781Z",
              "execution_finish_time": "2020-12-12T20:49:19.361247Z",
              "from_artifact": true
            },
            "text/plain": "StatementMeta(sparkdemo, 81, 56, Finished, Available)"
          },
          "metadata": {}
        },
        {
          "output_type": "display_data",
          "data": {
            "text/plain": "import org.apache.spark.sql._\nimport org.apache.spark.sql.functions._\n"
          },
          "metadata": {}
        },
        {
          "output_type": "display_data",
          "data": {
            "application/vnd.synapse.widget-view+json": {
              "widget_id": "fc030c0e-25cd-4a77-989f-231362328946",
              "widget_type": "Synapse.DataFrame"
            },
            "text/plain": "SynapseWidget(Synapse.DataFrame, fc030c0e-25cd-4a77-989f-231362328946)"
          },
          "metadata": {}
        },
        {
          "output_type": "display_data",
          "data": {
            "text/plain": "\n"
          },
          "metadata": {}
        },
        {
          "output_type": "execute_result",
          "execution_count": 54,
          "data": {},
          "metadata": {}
        }
      ],
      "execution_count": 54,
      "metadata": {
        "collapsed": false,
        "diagram": {
          "activateDiagramType": 1,
          "chartConfig": {
            "category": "bar",
            "keys": [
              "id"
            ],
            "values": [
              "pagerank"
            ],
            "yLabel": "pagerank",
            "xLabel": "id",
            "aggregation": "SUM",
            "aggByBackend": false
          },
          "aggData": "\"\\\"\\\\\\\"\\\\\\\\\\\\\\\"\\\\\\\\\\\\\\\\\\\\\\\\\\\\\\\"\\\\\\\\\\\\\\\\\\\\\\\\\\\\\\\\\\\\\\\\\\\\\\\\\\\\\\\\\\\\\\\"{\\\\\\\\\\\\\\\\\\\\\\\\\\\\\\\\\\\\\\\\\\\\\\\\\\\\\\\\\\\\\\\\\\\\\\\\\\\\\\\\\\\\\\\\\\\\\\\\\\\\\\\\\\\\\\\\\\\\\\\\\\\\\\\"pagerank\\\\\\\\\\\\\\\\\\\\\\\\\\\\\\\\\\\\\\\\\\\\\\\\\\\\\\\\\\\\\\\\\\\\\\\\\\\\\\\\\\\\\\\\\\\\\\\\\\\\\\\\\\\\\\\\\\\\\\\\\\\\\\\":{\\\\\\\\\\\\\\\\\\\\\\\\\\\\\\\\\\\\\\\\\\\\\\\\\\\\\\\\\\\\\\\\\\\\\\\\\\\\\\\\\\\\\\\\\\\\\\\\\\\\\\\\\\\\\\\\\\\\\\\\\\\\\\\"1\\\\\\\\\\\\\\\\\\\\\\\\\\\\\\\\\\\\\\\\\\\\\\\\\\\\\\\\\\\\\\\\\\\\\\\\\\\\\\\\\\\\\\\\\\\\\\\\\\\\\\\\\\\\\\\\\\\\\\\\\\\\\\\":0.6599298824499897,\\\\\\\\\\\\\\\\\\\\\\\\\\\\\\\\\\\\\\\\\\\\\\\\\\\\\\\\\\\\\\\\\\\\\\\\\\\\\\\\\\\\\\\\\\\\\\\\\\\\\\\\\\\\\\\\\\\\\\\\\\\\\\\"2\\\\\\\\\\\\\\\\\\\\\\\\\\\\\\\\\\\\\\\\\\\\\\\\\\\\\\\\\\\\\\\\\\\\\\\\\\\\\\\\\\\\\\\\\\\\\\\\\\\\\\\\\\\\\\\\\\\\\\\\\\\\\\\":0.9404000824912353,\\\\\\\\\\\\\\\\\\\\\\\\\\\\\\\\\\\\\\\\\\\\\\\\\\\\\\\\\\\\\\\\\\\\\\\\\\\\\\\\\\\\\\\\\\\\\\\\\\\\\\\\\\\\\\\\\\\\\\\\\\\\\\\"3\\\\\\\\\\\\\\\\\\\\\\\\\\\\\\\\\\\\\\\\\\\\\\\\\\\\\\\\\\\\\\\\\\\\\\\\\\\\\\\\\\\\\\\\\\\\\\\\\\\\\\\\\\\\\\\\\\\\\\\\\\\\\\\":0.9404000824912353,\\\\\\\\\\\\\\\\\\\\\\\\\\\\\\\\\\\\\\\\\\\\\\\\\\\\\\\\\\\\\\\\\\\\\\\\\\\\\\\\\\\\\\\\\\\\\\\\\\\\\\\\\\\\\\\\\\\\\\\\\\\\\\\"4\\\\\\\\\\\\\\\\\\\\\\\\\\\\\\\\\\\\\\\\\\\\\\\\\\\\\\\\\\\\\\\\\\\\\\\\\\\\\\\\\\\\\\\\\\\\\\\\\\\\\\\\\\\\\\\\\\\\\\\\\\\\\\\":1.4592699525675397}}\\\\\\\\\\\\\\\\\\\\\\\\\\\\\\\\\\\\\\\\\\\\\\\\\\\\\\\\\\\\\\\"\\\\\\\\\\\\\\\\\\\\\\\\\\\\\\\"\\\\\\\\\\\\\\\"\\\\\\\"\\\"\"",
          "isSummary": false,
          "previewData": {
            "filter": null
          },
          "isSql": false
        }
      }
    },
    {
      "cell_type": "code",
      "source": [
        "display(resultsP1.vertices.select(\"id\", \"name\" ,\"pagerank\").orderBy($\"pagerank\".desc))"
      ],
      "outputs": [
        {
          "output_type": "display_data",
          "data": {
            "application/vnd.livy.statement-meta+json": {
              "spark_pool": "sparkdemo",
              "session_id": 81,
              "statement_id": 57,
              "state": "finished",
              "livy_statement_state": "available",
              "queued_time": "2020-12-12T20:49:24.7969857Z",
              "execution_start_time": "2020-12-12T20:49:24.8319117Z",
              "execution_finish_time": "2020-12-12T20:49:30.9949728Z",
              "from_artifact": true
            },
            "text/plain": "StatementMeta(sparkdemo, 81, 57, Finished, Available)"
          },
          "metadata": {}
        },
        {
          "output_type": "display_data",
          "data": {
            "application/vnd.synapse.widget-view+json": {
              "widget_id": "e1719b4f-9637-4e12-abbe-ed83cb34a4f2",
              "widget_type": "Synapse.DataFrame"
            },
            "text/plain": "SynapseWidget(Synapse.DataFrame, e1719b4f-9637-4e12-abbe-ed83cb34a4f2)"
          },
          "metadata": {}
        },
        {
          "output_type": "display_data",
          "data": {
            "text/plain": "\n"
          },
          "metadata": {}
        },
        {
          "output_type": "execute_result",
          "execution_count": 55,
          "data": {},
          "metadata": {}
        }
      ],
      "execution_count": 55,
      "metadata": {
        "jupyter": {
          "source_hidden": false,
          "outputs_hidden": false
        },
        "nteract": {
          "transient": {
            "deleting": false
          }
        },
        "collapsed": false
      }
    },
    {
      "cell_type": "code",
      "source": [
        "display(resultsPm.vertices.select($\"id\", $\"name\" ,$\"pageranks\"))\r\n"
      ],
      "outputs": [
        {
          "output_type": "display_data",
          "data": {
            "application/vnd.livy.statement-meta+json": {
              "spark_pool": "sparkdemo",
              "session_id": 81,
              "statement_id": 72,
              "state": "finished",
              "livy_statement_state": "available",
              "queued_time": "2020-12-12T21:00:39.1302451Z",
              "execution_start_time": "2020-12-12T21:00:39.1633755Z",
              "execution_finish_time": "2020-12-12T21:00:45.423259Z",
              "from_artifact": true
            },
            "text/plain": "StatementMeta(sparkdemo, 81, 72, Finished, Available)"
          },
          "metadata": {}
        },
        {
          "output_type": "display_data",
          "data": {
            "application/vnd.synapse.widget-view+json": {
              "widget_id": "9188d5a8-8ee9-4259-92b8-718cefe0b594",
              "widget_type": "Synapse.DataFrame"
            },
            "text/plain": "SynapseWidget(Synapse.DataFrame, 9188d5a8-8ee9-4259-92b8-718cefe0b594)"
          },
          "metadata": {}
        },
        {
          "output_type": "display_data",
          "data": {
            "text/plain": "\n"
          },
          "metadata": {}
        },
        {
          "output_type": "execute_result",
          "execution_count": 70,
          "data": {},
          "metadata": {}
        }
      ],
      "execution_count": 70,
      "metadata": {
        "jupyter": {
          "source_hidden": false,
          "outputs_hidden": false
        },
        "nteract": {
          "transient": {
            "deleting": false
          }
        },
        "collapsed": false
      }
    },
    {
      "cell_type": "code",
      "source": [
        "//\r\n",
        "display(results.edges.select( \"src\",\"dst\",\"relationship\",\"weight\").orderBy($\"weight\".desc))"
      ],
      "outputs": [
        {
          "output_type": "display_data",
          "data": {
            "application/vnd.livy.statement-meta+json": {
              "spark_pool": "sparkdemo",
              "session_id": 81,
              "statement_id": 36,
              "state": "finished",
              "livy_statement_state": "available",
              "queued_time": "2020-12-12T20:02:15.0737308Z",
              "execution_start_time": "2020-12-12T20:02:15.1127703Z",
              "execution_finish_time": "2020-12-12T20:02:30.4099549Z",
              "from_artifact": true
            },
            "text/plain": "StatementMeta(sparkdemo, 81, 36, Finished, Available)"
          },
          "metadata": {}
        },
        {
          "output_type": "display_data",
          "data": {
            "application/vnd.synapse.widget-view+json": {
              "widget_id": "55371f51-c8ff-46ca-b2fd-629a7a8ffcb8",
              "widget_type": "Synapse.DataFrame"
            },
            "text/plain": "SynapseWidget(Synapse.DataFrame, 55371f51-c8ff-46ca-b2fd-629a7a8ffcb8)"
          },
          "metadata": {}
        },
        {
          "output_type": "display_data",
          "data": {
            "text/plain": "\n"
          },
          "metadata": {}
        },
        {
          "output_type": "execute_result",
          "execution_count": 34,
          "data": {},
          "metadata": {}
        }
      ],
      "execution_count": 34,
      "metadata": {
        "jupyter": {
          "source_hidden": false,
          "outputs_hidden": false
        },
        "nteract": {
          "transient": {
            "deleting": false
          }
        },
        "collapsed": false
      }
    },
    {
      "cell_type": "markdown",
      "source": [
        "## Example of FInding ShortestPath Algo using shortestPaths"
      ],
      "metadata": {
        "nteract": {
          "transient": {
            "deleting": false
          }
        }
      }
    },
    {
      "cell_type": "code",
      "source": [
        "//Shortest Path: Computes shortest paths from each vertex to the given set of landmark vertices, where landmarks are specified by vertex ID.\r\n",
        "import org.apache.spark.sql.functions._\r\n",
        "val paths = graph.shortestPaths.landmarks(Seq(\"a\", \"c\")).run()\r\n",
        "\r\n",
        "display(paths)\r\n"
      ],
      "outputs": [
        {
          "output_type": "display_data",
          "data": {
            "application/vnd.livy.statement-meta+json": {
              "spark_pool": "sparkdemo",
              "session_id": 81,
              "statement_id": 42,
              "state": "finished",
              "livy_statement_state": "available",
              "queued_time": "2020-12-12T20:15:32.6359187Z",
              "execution_start_time": "2020-12-12T20:15:32.6666403Z",
              "execution_finish_time": "2020-12-12T20:16:43.1761426Z",
              "from_artifact": true
            },
            "text/plain": "StatementMeta(sparkdemo, 81, 42, Finished, Available)"
          },
          "metadata": {}
        },
        {
          "output_type": "display_data",
          "data": {
            "text/plain": "import org.apache.spark.sql.functions._\npaths: org.apache.spark.sql.DataFrame = [id: string, name: string ... 2 more fields]\n"
          },
          "metadata": {}
        },
        {
          "output_type": "display_data",
          "data": {
            "application/vnd.synapse.widget-view+json": {
              "widget_id": "8f276f7d-9a32-4a61-ad3c-df8f9c01fb4e",
              "widget_type": "Synapse.DataFrame"
            },
            "text/plain": "SynapseWidget(Synapse.DataFrame, 8f276f7d-9a32-4a61-ad3c-df8f9c01fb4e)"
          },
          "metadata": {}
        },
        {
          "output_type": "display_data",
          "data": {
            "text/plain": "\n"
          },
          "metadata": {}
        },
        {
          "output_type": "execute_result",
          "execution_count": 40,
          "data": {},
          "metadata": {}
        }
      ],
      "execution_count": 40,
      "metadata": {
        "jupyter": {
          "source_hidden": false,
          "outputs_hidden": false
        },
        "nteract": {
          "transient": {
            "deleting": false
          }
        },
        "collapsed": false
      }
    },
    {
      "cell_type": "code",
      "source": [
        "import org.apache.spark.sql.functions._\r\n",
        "\r\n",
        "val paths_m = paths.select($\"id\",explode($\"distances\"))\r\n",
        "display(paths_m)"
      ],
      "outputs": [
        {
          "output_type": "display_data",
          "data": {
            "application/vnd.livy.statement-meta+json": {
              "spark_pool": "sparkdemo",
              "session_id": 81,
              "statement_id": 63,
              "state": "finished",
              "livy_statement_state": "available",
              "queued_time": "2020-12-12T20:54:15.9996113Z",
              "execution_start_time": "2020-12-12T20:54:16.027737Z",
              "execution_finish_time": "2020-12-12T20:54:22.7332803Z",
              "from_artifact": true
            },
            "text/plain": "StatementMeta(sparkdemo, 81, 63, Finished, Available)"
          },
          "metadata": {}
        },
        {
          "output_type": "display_data",
          "data": {
            "text/plain": "import org.apache.spark.sql.functions._\npaths_m: org.apache.spark.sql.DataFrame = [id: string, key: string ... 1 more field]\n"
          },
          "metadata": {}
        },
        {
          "output_type": "display_data",
          "data": {
            "application/vnd.synapse.widget-view+json": {
              "widget_id": "62083f48-c2db-475d-96e8-750153132f56",
              "widget_type": "Synapse.DataFrame"
            },
            "text/plain": "SynapseWidget(Synapse.DataFrame, 62083f48-c2db-475d-96e8-750153132f56)"
          },
          "metadata": {}
        },
        {
          "output_type": "display_data",
          "data": {
            "text/plain": "\n"
          },
          "metadata": {}
        },
        {
          "output_type": "execute_result",
          "execution_count": 61,
          "data": {},
          "metadata": {}
        }
      ],
      "execution_count": 61,
      "metadata": {
        "jupyter": {
          "source_hidden": false,
          "outputs_hidden": false
        },
        "nteract": {
          "transient": {
            "deleting": false
          }
        },
        "collapsed": false
      }
    },
    {
      "cell_type": "markdown",
      "source": [
        "## The end\r\n"
      ],
      "metadata": {
        "nteract": {
          "transient": {
            "deleting": false
          }
        }
      }
    }
  ],
  "metadata": {
    "sessionOptions": {
      "driverMemory": "28g",
      "driverCores": 4,
      "executorMemory": "28g",
      "executorCores": 4,
      "numExecutors": 2,
      "keepAliveTimeout": 30,
      "conf": {
        "spark.dynamicAllocation.enabled": "false",
        "spark.dynamicAllocation.minExecutors": "2",
        "spark.dynamicAllocation.maxExecutors": "2"
      }
    },
    "saveOutput": true,
    "language_info": {
      "name": "scala"
    },
    "a365ComputeOptions": {
      "nodeSize": "Small",
      "auth": {
        "authResource": "https://dev.azuresynapse.net",
        "type": "AAD"
      },
      "name": "sparkdemo",
      "nodeCount": 3,
      "endpoint": "https://cosmossynapsedemo.dev.azuresynapse.net/livyApi/versions/2019-11-01-preview/sparkPools/sparkdemo",
      "automaticScaleJobs": false,
      "type": "Spark",
      "id": "/subscriptions/7b2a3a38-6898-4d2b-830c-1e11c8b6d229/resourceGroups/cosmos_synapse_rg/providers/Microsoft.Synapse/workspaces/cosmossynapsedemo/bigDataPools/sparkdemo",
      "sparkVersion": "2.4",
      "extraHeader": {}
    },
    "microsoft": {
      "language": "scala"
    },
    "nteract": {
      "version": "nteract-front-end@1.0.0"
    }
  },
  "nbformat": 4,
  "nbformat_minor": 2
}